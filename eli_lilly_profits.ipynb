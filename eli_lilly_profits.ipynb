{
 "cells": [
  {
   "cell_type": "code",
   "execution_count": 3,
   "metadata": {},
   "outputs": [],
   "source": [
    "import pandas as pd"
   ]
  },
  {
   "cell_type": "code",
   "execution_count": 136,
   "metadata": {},
   "outputs": [],
   "source": [
    "sales_LLY_19_18_ = pd.read_excel(\"/Users/GuntherUlvanget/Dropbox/NADAC_downloads/ELILILLY/IR workbook Q3 2019.xlsx\",\n",
    "                  sheet_name = [\"2019 Revenue\", \"2018 Revenue\"])\n",
    "sales_LLY_17_ = pd.read_excel(\"/Users/GuntherUlvanget/Dropbox/NADAC_downloads/ELILILLY/IR workbook Q3 2018 with Balance Sheet revised.xlsx\",\n",
    "                            sheet_name = \"2017 Revenue\")\n",
    "sales_LLY_16_ = pd.read_excel(\"/Users/GuntherUlvanget/Dropbox/NADAC_downloads/ELILILLY/IR_Workbook_Q1_2017_Excluding_Balance_Sheet.xlsx\",\n",
    "                            sheet_name = \"2016 Revenue\" )\n",
    "sales_LLY_15_ = pd.read_excel(\"/Users/GuntherUlvanget/Dropbox/NADAC_downloads/ELILILLY/IR_workbook_Q1_2016.xlsx\",\n",
    "                            sheet_name =\"2015 Revenue\" )\n",
    "sales_LLY_14_13_ = pd.read_excel(\"/Users/GuntherUlvanget/Dropbox/NADAC_downloads/ELILILLY/IR_workbook_Q4_2014.xls\",\n",
    "                              sheet_name = [\"2014 Sales\",\"2013 Sales\"])"
   ]
  },
  {
   "cell_type": "code",
   "execution_count": 137,
   "metadata": {},
   "outputs": [],
   "source": [
    "#separate 2019 and 2018 sales data from the dictionary. \n",
    "#First make itmes into a list of dataframes\n",
    "#then assign each DF in df_list to variable \n",
    "\n",
    "df_list = list (sales_LLY_19_18_.items())\n",
    "df_2_list = list (sales_LLY_14_13_.items())"
   ]
  },
  {
   "cell_type": "code",
   "execution_count": 138,
   "metadata": {},
   "outputs": [],
   "source": [
    "sales_LLY_18_ = (df_list[1][1])\n",
    "sales_LLY_19_ = df_list[0][1]\n",
    "sales_LLY_13_ = df_2_list[1][1]\n",
    "sales_LLY_14_ = df_2_list[0][1]"
   ]
  },
  {
   "cell_type": "code",
   "execution_count": 139,
   "metadata": {},
   "outputs": [
    {
     "data": {
      "text/plain": [
       "(66, 21)"
      ]
     },
     "execution_count": 139,
     "metadata": {},
     "output_type": "execute_result"
    }
   ],
   "source": [
    "sales_LLY_13_.shape"
   ]
  },
  {
   "cell_type": "code",
   "execution_count": 140,
   "metadata": {},
   "outputs": [
    {
     "data": {
      "text/plain": [
       "(69, 21)"
      ]
     },
     "execution_count": 140,
     "metadata": {},
     "output_type": "execute_result"
    }
   ],
   "source": [
    "sales_LLY_14_.shape"
   ]
  },
  {
   "cell_type": "code",
   "execution_count": 141,
   "metadata": {},
   "outputs": [
    {
     "data": {
      "text/plain": [
       "(73, 21)"
      ]
     },
     "execution_count": 141,
     "metadata": {},
     "output_type": "execute_result"
    }
   ],
   "source": [
    "sales_LLY_15_.shape"
   ]
  },
  {
   "cell_type": "code",
   "execution_count": 142,
   "metadata": {},
   "outputs": [
    {
     "data": {
      "text/plain": [
       "(77, 21)"
      ]
     },
     "execution_count": 142,
     "metadata": {},
     "output_type": "execute_result"
    }
   ],
   "source": [
    "sales_LLY_16_.shape"
   ]
  },
  {
   "cell_type": "code",
   "execution_count": 143,
   "metadata": {},
   "outputs": [
    {
     "data": {
      "text/plain": [
       "(79, 21)"
      ]
     },
     "execution_count": 143,
     "metadata": {},
     "output_type": "execute_result"
    }
   ],
   "source": [
    "sales_LLY_17_.shape"
   ]
  },
  {
   "cell_type": "code",
   "execution_count": 165,
   "metadata": {},
   "outputs": [
    {
     "data": {
      "text/plain": [
       "21"
      ]
     },
     "execution_count": 165,
     "metadata": {},
     "output_type": "execute_result"
    }
   ],
   "source": [
    "sales_LLY_18_.shape"
   ]
  },
  {
   "cell_type": "code",
   "execution_count": 145,
   "metadata": {},
   "outputs": [
    {
     "data": {
      "text/plain": [
       "(64, 21)"
      ]
     },
     "execution_count": 145,
     "metadata": {},
     "output_type": "execute_result"
    }
   ],
   "source": [
    "sales_LLY_19_.shape"
   ]
  },
  {
   "cell_type": "code",
   "execution_count": 146,
   "metadata": {},
   "outputs": [],
   "source": [
    "#remove rows from data frame that do not contain data\n",
    "sales_LLY_13_ = sales_LLY_13_.iloc[9:,]\n",
    "\n",
    "sales_LLY_13_ = sales_LLY_13_.iloc[:49]\n",
    "#sales_LLY_13_.drop([0,8], axis = 0).head()"
   ]
  },
  {
   "cell_type": "code",
   "execution_count": 149,
   "metadata": {},
   "outputs": [],
   "source": [
    "sales_LLY_13_ = sales_LLY_13_.drop([\"Unnamed: 0\", \"Unnamed: 5\", \"Unnamed: 9\",\"Unnamed: 13\", \"Unnamed: 17\"], axis=1)"
   ]
  },
  {
   "cell_type": "code",
   "execution_count": 176,
   "metadata": {},
   "outputs": [
    {
     "data": {
      "text/html": [
       "<div>\n",
       "<style scoped>\n",
       "    .dataframe tbody tr th:only-of-type {\n",
       "        vertical-align: middle;\n",
       "    }\n",
       "\n",
       "    .dataframe tbody tr th {\n",
       "        vertical-align: top;\n",
       "    }\n",
       "\n",
       "    .dataframe thead th {\n",
       "        text-align: right;\n",
       "    }\n",
       "</style>\n",
       "<table border=\"1\" class=\"dataframe\">\n",
       "  <thead>\n",
       "    <tr style=\"text-align: right;\">\n",
       "      <th></th>\n",
       "      <th>Unnamed: 1</th>\n",
       "      <th>Unnamed: 2</th>\n",
       "      <th>Unnamed: 3</th>\n",
       "      <th>Unnamed: 4</th>\n",
       "      <th>Unnamed: 6</th>\n",
       "      <th>Unnamed: 7</th>\n",
       "      <th>Unnamed: 8</th>\n",
       "      <th>Unnamed: 10</th>\n",
       "      <th>Unnamed: 11</th>\n",
       "      <th>Unnamed: 12</th>\n",
       "      <th>Unnamed: 14</th>\n",
       "      <th>Unnamed: 15</th>\n",
       "      <th>Unnamed: 16</th>\n",
       "      <th>Unnamed: 18</th>\n",
       "      <th>Unnamed: 19</th>\n",
       "      <th>LLY</th>\n",
       "    </tr>\n",
       "  </thead>\n",
       "  <tbody>\n",
       "    <tr>\n",
       "      <th>9</th>\n",
       "      <td>NaN</td>\n",
       "      <td>Q1</td>\n",
       "      <td>Q1</td>\n",
       "      <td>Q1</td>\n",
       "      <td>Q2</td>\n",
       "      <td>Q2</td>\n",
       "      <td>Q2</td>\n",
       "      <td>Q3</td>\n",
       "      <td>Q3</td>\n",
       "      <td>Q3</td>\n",
       "      <td>Q4</td>\n",
       "      <td>Q4</td>\n",
       "      <td>Q4</td>\n",
       "      <td>2013</td>\n",
       "      <td>2013</td>\n",
       "      <td>2013</td>\n",
       "    </tr>\n",
       "    <tr>\n",
       "      <th>10</th>\n",
       "      <td>NaN</td>\n",
       "      <td>US</td>\n",
       "      <td>Intl</td>\n",
       "      <td>Total</td>\n",
       "      <td>US</td>\n",
       "      <td>Intl</td>\n",
       "      <td>Total</td>\n",
       "      <td>US</td>\n",
       "      <td>Intl</td>\n",
       "      <td>Total</td>\n",
       "      <td>US</td>\n",
       "      <td>Intl</td>\n",
       "      <td>Total</td>\n",
       "      <td>US</td>\n",
       "      <td>Intl</td>\n",
       "      <td>Total</td>\n",
       "    </tr>\n",
       "    <tr>\n",
       "      <th>11</th>\n",
       "      <td>NaN</td>\n",
       "      <td>NaN</td>\n",
       "      <td>NaN</td>\n",
       "      <td>NaN</td>\n",
       "      <td>NaN</td>\n",
       "      <td>NaN</td>\n",
       "      <td>NaN</td>\n",
       "      <td>NaN</td>\n",
       "      <td>NaN</td>\n",
       "      <td>NaN</td>\n",
       "      <td>NaN</td>\n",
       "      <td>NaN</td>\n",
       "      <td>NaN</td>\n",
       "      <td>NaN</td>\n",
       "      <td>NaN</td>\n",
       "      <td>NaN</td>\n",
       "    </tr>\n",
       "    <tr>\n",
       "      <th>12</th>\n",
       "      <td>Zyprexa</td>\n",
       "      <td>32</td>\n",
       "      <td>252.8</td>\n",
       "      <td>284.8</td>\n",
       "      <td>19.5</td>\n",
       "      <td>263.7</td>\n",
       "      <td>283.2</td>\n",
       "      <td>32.9</td>\n",
       "      <td>245.8</td>\n",
       "      <td>278.7</td>\n",
       "      <td>39.2</td>\n",
       "      <td>309</td>\n",
       "      <td>348.2</td>\n",
       "      <td>123.6</td>\n",
       "      <td>1071.2</td>\n",
       "      <td>1194.8</td>\n",
       "    </tr>\n",
       "    <tr>\n",
       "      <th>13</th>\n",
       "      <td>Cymbalta</td>\n",
       "      <td>1056.9</td>\n",
       "      <td>271.3</td>\n",
       "      <td>1328.2</td>\n",
       "      <td>1217.4</td>\n",
       "      <td>279.8</td>\n",
       "      <td>1497.2</td>\n",
       "      <td>1109.2</td>\n",
       "      <td>266.6</td>\n",
       "      <td>1375.8</td>\n",
       "      <td>577.3</td>\n",
       "      <td>305.9</td>\n",
       "      <td>883.2</td>\n",
       "      <td>3960.8</td>\n",
       "      <td>1123.6</td>\n",
       "      <td>5084.4</td>\n",
       "    </tr>\n",
       "  </tbody>\n",
       "</table>\n",
       "</div>"
      ],
      "text/plain": [
       "   Unnamed: 1 Unnamed: 2 Unnamed: 3 Unnamed: 4 Unnamed: 6 Unnamed: 7  \\\n",
       "9         NaN         Q1         Q1         Q1         Q2         Q2   \n",
       "10        NaN         US       Intl      Total         US       Intl   \n",
       "11        NaN        NaN        NaN        NaN        NaN        NaN   \n",
       "12    Zyprexa         32      252.8      284.8       19.5      263.7   \n",
       "13   Cymbalta     1056.9      271.3     1328.2     1217.4      279.8   \n",
       "\n",
       "   Unnamed: 8 Unnamed: 10 Unnamed: 11 Unnamed: 12 Unnamed: 14 Unnamed: 15  \\\n",
       "9          Q2          Q3          Q3          Q3          Q4          Q4   \n",
       "10      Total          US        Intl       Total          US        Intl   \n",
       "11        NaN         NaN         NaN         NaN         NaN         NaN   \n",
       "12      283.2        32.9       245.8       278.7        39.2         309   \n",
       "13     1497.2      1109.2       266.6      1375.8       577.3       305.9   \n",
       "\n",
       "   Unnamed: 16 Unnamed: 18 Unnamed: 19     LLY  \n",
       "9           Q4        2013        2013    2013  \n",
       "10       Total          US        Intl   Total  \n",
       "11         NaN         NaN         NaN     NaN  \n",
       "12       348.2       123.6      1071.2  1194.8  \n",
       "13       883.2      3960.8      1123.6  5084.4  "
      ]
     },
     "execution_count": 176,
     "metadata": {},
     "output_type": "execute_result"
    }
   ],
   "source": [
    "sales_LLY_13_.head()"
   ]
  },
  {
   "cell_type": "code",
   "execution_count": 175,
   "metadata": {},
   "outputs": [
    {
     "name": "stderr",
     "output_type": "stream",
     "text": [
      "/Users/GuntherUlvanget/anaconda3/lib/python3.7/site-packages/ipykernel_launcher.py:4: FutureWarning: get_value is deprecated and will be removed in a future release. Please use .at[] or .iat[] accessors instead\n",
      "  after removing the cwd from sys.path.\n"
     ]
    },
    {
     "ename": "TypeError",
     "evalue": "unsupported operand type(s) for +: 'float' and 'str'",
     "output_type": "error",
     "traceback": [
      "\u001b[0;31m---------------------------------------------------------------------------\u001b[0m",
      "\u001b[0;31mTypeError\u001b[0m                                 Traceback (most recent call last)",
      "\u001b[0;32m<ipython-input-175-912549f7120f>\u001b[0m in \u001b[0;36m<module>\u001b[0;34m\u001b[0m\n\u001b[1;32m      2\u001b[0m \u001b[0mcolnames_list\u001b[0m \u001b[0;34m=\u001b[0m \u001b[0;34m[\u001b[0m\u001b[0;34m]\u001b[0m\u001b[0;34m\u001b[0m\u001b[0;34m\u001b[0m\u001b[0m\n\u001b[1;32m      3\u001b[0m \u001b[0;32mfor\u001b[0m \u001b[0mi\u001b[0m \u001b[0;32min\u001b[0m \u001b[0mrange\u001b[0m\u001b[0;34m(\u001b[0m\u001b[0msales_LLY_13_\u001b[0m\u001b[0;34m.\u001b[0m\u001b[0mshape\u001b[0m\u001b[0;34m[\u001b[0m\u001b[0;36m1\u001b[0m\u001b[0;34m]\u001b[0m\u001b[0;34m)\u001b[0m\u001b[0;34m:\u001b[0m\u001b[0;34m\u001b[0m\u001b[0;34m\u001b[0m\u001b[0m\n\u001b[0;32m----> 4\u001b[0;31m     \u001b[0mcolnames_list\u001b[0m\u001b[0;34m.\u001b[0m\u001b[0mappend\u001b[0m\u001b[0;34m(\u001b[0m\u001b[0msales_LLY_13_\u001b[0m\u001b[0;34m.\u001b[0m\u001b[0mget_value\u001b[0m\u001b[0;34m(\u001b[0m\u001b[0;36m1\u001b[0m\u001b[0;34m,\u001b[0m \u001b[0mi\u001b[0m\u001b[0;34m,\u001b[0m \u001b[0mtakeable\u001b[0m \u001b[0;34m=\u001b[0m \u001b[0;32mTrue\u001b[0m\u001b[0;34m)\u001b[0m \u001b[0;34m+\u001b[0m \u001b[0;34m\"_\"\u001b[0m \u001b[0;34m+\u001b[0m\u001b[0mstr\u001b[0m\u001b[0;34m(\u001b[0m\u001b[0msales_LLY_13_\u001b[0m\u001b[0;34m.\u001b[0m\u001b[0mget_value\u001b[0m\u001b[0;34m(\u001b[0m\u001b[0;36m0\u001b[0m\u001b[0;34m,\u001b[0m \u001b[0mi\u001b[0m\u001b[0;34m,\u001b[0m \u001b[0mtakeable\u001b[0m \u001b[0;34m=\u001b[0m \u001b[0;32mTrue\u001b[0m\u001b[0;34m)\u001b[0m\u001b[0;34m)\u001b[0m  \u001b[0;34m)\u001b[0m\u001b[0;34m\u001b[0m\u001b[0;34m\u001b[0m\u001b[0m\n\u001b[0m\u001b[1;32m      5\u001b[0m \u001b[0;34m\u001b[0m\u001b[0m\n\u001b[1;32m      6\u001b[0m \u001b[0;31m#sales_LLY_13_.rename(columns = {\"Unnamed: 1\":\"\"        ,\"Unnamed: 2\":\"\"        ,\"Unnamed: 3\"   ,\"Unnamed: 4\"   ,\"Unnamed: 6\"   ,\"Unnamed: 7\"   ,\"Unnamed: 8\"   ,\"Unnamed: 10\"  ,\"Unnamed: 11\"  ,\"Unnamed: 12\"  ,\"Unnamed: 14\"  ,\"Unnamed: 15\"  ,\"Unnamed: 16\"  ,\"Unnamed: 18\"  ,\"Unnamed: 19\"  ,\"LLY\"})\u001b[0m\u001b[0;34m\u001b[0m\u001b[0;34m\u001b[0m\u001b[0;34m\u001b[0m\u001b[0m\n",
      "\u001b[0;31mTypeError\u001b[0m: unsupported operand type(s) for +: 'float' and 'str'"
     ]
    }
   ],
   "source": [
    "#rename column using data in cells \n",
    "colnames_list = []\n",
    "for i in range(sales_LLY_13_.shape[1]):\n",
    "    colnames_list.append(sales_LLY_13_.get_value(1, i, takeable = True) + \"_\" +str(sales_LLY_13_.get_value(0, i, takeable = True))  )\n",
    "\n",
    "#sales_LLY_13_.rename(columns = {\"Unnamed: 1\":\"\"\t,\"Unnamed: 2\":\"\"\t,\"Unnamed: 3\"\t,\"Unnamed: 4\"\t,\"Unnamed: 6\"\t,\"Unnamed: 7\"\t,\"Unnamed: 8\"\t,\"Unnamed: 10\"\t,\"Unnamed: 11\"\t,\"Unnamed: 12\"\t,\"Unnamed: 14\"\t,\"Unnamed: 15\"\t,\"Unnamed: 16\"\t,\"Unnamed: 18\"\t,\"Unnamed: 19\"\t,\"LLY\"})"
   ]
  },
  {
   "cell_type": "code",
   "execution_count": 172,
   "metadata": {},
   "outputs": [
    {
     "name": "stderr",
     "output_type": "stream",
     "text": [
      "/Users/GuntherUlvanget/anaconda3/lib/python3.7/site-packages/ipykernel_launcher.py:1: FutureWarning: get_value is deprecated and will be removed in a future release. Please use .at[] or .iat[] accessors instead\n",
      "  \"\"\"Entry point for launching an IPython kernel.\n"
     ]
    },
    {
     "data": {
      "text/plain": [
       "2013"
      ]
     },
     "execution_count": 172,
     "metadata": {},
     "output_type": "execute_result"
    }
   ],
   "source": [
    "sales_LLY_13_.get_value(0, 15, takeable = True)"
   ]
  },
  {
   "cell_type": "code",
   "execution_count": 179,
   "metadata": {},
   "outputs": [
    {
     "ename": "ValueError",
     "evalue": "At based indexing on an non-integer index can only have non-integer indexers",
     "output_type": "error",
     "traceback": [
      "\u001b[0;31m---------------------------------------------------------------------------\u001b[0m",
      "\u001b[0;31mValueError\u001b[0m                                Traceback (most recent call last)",
      "\u001b[0;32m<ipython-input-179-997734f897e1>\u001b[0m in \u001b[0;36m<module>\u001b[0;34m\u001b[0m\n\u001b[0;32m----> 1\u001b[0;31m \u001b[0msales_LLY_13_\u001b[0m\u001b[0;34m.\u001b[0m\u001b[0mat\u001b[0m\u001b[0;34m[\u001b[0m\u001b[0;36m10\u001b[0m\u001b[0;34m,\u001b[0m\u001b[0;36m1\u001b[0m\u001b[0;34m]\u001b[0m\u001b[0;34m\u001b[0m\u001b[0;34m\u001b[0m\u001b[0m\n\u001b[0m",
      "\u001b[0;32m~/anaconda3/lib/python3.7/site-packages/pandas/core/indexing.py\u001b[0m in \u001b[0;36m__getitem__\u001b[0;34m(self, key)\u001b[0m\n\u001b[1;32m   2267\u001b[0m                 \u001b[0;32mraise\u001b[0m \u001b[0mValueError\u001b[0m\u001b[0;34m(\u001b[0m\u001b[0;34m'Invalid call for scalar access (getting)!'\u001b[0m\u001b[0;34m)\u001b[0m\u001b[0;34m\u001b[0m\u001b[0;34m\u001b[0m\u001b[0m\n\u001b[1;32m   2268\u001b[0m \u001b[0;34m\u001b[0m\u001b[0m\n\u001b[0;32m-> 2269\u001b[0;31m         \u001b[0mkey\u001b[0m \u001b[0;34m=\u001b[0m \u001b[0mself\u001b[0m\u001b[0;34m.\u001b[0m\u001b[0m_convert_key\u001b[0m\u001b[0;34m(\u001b[0m\u001b[0mkey\u001b[0m\u001b[0;34m)\u001b[0m\u001b[0;34m\u001b[0m\u001b[0;34m\u001b[0m\u001b[0m\n\u001b[0m\u001b[1;32m   2270\u001b[0m         \u001b[0;32mreturn\u001b[0m \u001b[0mself\u001b[0m\u001b[0;34m.\u001b[0m\u001b[0mobj\u001b[0m\u001b[0;34m.\u001b[0m\u001b[0m_get_value\u001b[0m\u001b[0;34m(\u001b[0m\u001b[0;34m*\u001b[0m\u001b[0mkey\u001b[0m\u001b[0;34m,\u001b[0m \u001b[0mtakeable\u001b[0m\u001b[0;34m=\u001b[0m\u001b[0mself\u001b[0m\u001b[0;34m.\u001b[0m\u001b[0m_takeable\u001b[0m\u001b[0;34m)\u001b[0m\u001b[0;34m\u001b[0m\u001b[0;34m\u001b[0m\u001b[0m\n\u001b[1;32m   2271\u001b[0m \u001b[0;34m\u001b[0m\u001b[0m\n",
      "\u001b[0;32m~/anaconda3/lib/python3.7/site-packages/pandas/core/indexing.py\u001b[0m in \u001b[0;36m_convert_key\u001b[0;34m(self, key, is_setter)\u001b[0m\n\u001b[1;32m   2353\u001b[0m             \u001b[0;32melse\u001b[0m\u001b[0;34m:\u001b[0m\u001b[0;34m\u001b[0m\u001b[0;34m\u001b[0m\u001b[0m\n\u001b[1;32m   2354\u001b[0m                 \u001b[0;32mif\u001b[0m \u001b[0mis_integer\u001b[0m\u001b[0;34m(\u001b[0m\u001b[0mi\u001b[0m\u001b[0;34m)\u001b[0m \u001b[0;32mand\u001b[0m \u001b[0;32mnot\u001b[0m \u001b[0max\u001b[0m\u001b[0;34m.\u001b[0m\u001b[0mholds_integer\u001b[0m\u001b[0;34m(\u001b[0m\u001b[0;34m)\u001b[0m\u001b[0;34m:\u001b[0m\u001b[0;34m\u001b[0m\u001b[0;34m\u001b[0m\u001b[0m\n\u001b[0;32m-> 2355\u001b[0;31m                     raise ValueError(\"At based indexing on an non-integer \"\n\u001b[0m\u001b[1;32m   2356\u001b[0m                                      \u001b[0;34m\"index can only have non-integer \"\u001b[0m\u001b[0;34m\u001b[0m\u001b[0;34m\u001b[0m\u001b[0m\n\u001b[1;32m   2357\u001b[0m                                      \"indexers\")\n",
      "\u001b[0;31mValueError\u001b[0m: At based indexing on an non-integer index can only have non-integer indexers"
     ]
    }
   ],
   "source": [
    "sales_LLY_13_.at[10,1]"
   ]
  },
  {
   "cell_type": "code",
   "execution_count": null,
   "metadata": {},
   "outputs": [],
   "source": []
  }
 ],
 "metadata": {
  "kernelspec": {
   "display_name": "Python 3",
   "language": "python",
   "name": "python3"
  },
  "language_info": {
   "codemirror_mode": {
    "name": "ipython",
    "version": 3
   },
   "file_extension": ".py",
   "mimetype": "text/x-python",
   "name": "python",
   "nbconvert_exporter": "python",
   "pygments_lexer": "ipython3",
   "version": "3.7.3"
  }
 },
 "nbformat": 4,
 "nbformat_minor": 2
}
