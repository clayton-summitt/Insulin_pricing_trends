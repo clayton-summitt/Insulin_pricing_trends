{
 "cells": [
  {
   "cell_type": "code",
   "execution_count": 545,
   "metadata": {},
   "outputs": [],
   "source": [
    "import numpy as np\n",
    "import pandas as pd\n",
    "import seaborn as sns\n",
    "import matplotlib.pyplot as plt\n",
    "from scipy import stats"
   ]
  },
  {
   "cell_type": "code",
   "execution_count": 539,
   "metadata": {},
   "outputs": [],
   "source": [
    "sales_LLY_19_18_ = pd.read_excel(\"/Users/GuntherUlvanget/Dropbox/NADAC_downloads/ELILILLY/IR workbook Q3 2019.xlsx\",\n",
    "                  sheet_name = [\"2019 Revenue\", \"2018 Revenue\"])\n",
    "\n",
    "sales_LLY_17_ = pd.read_excel(\"/Users/GuntherUlvanget/Dropbox/NADAC_downloads/ELILILLY/IR workbook Q3 2018 with Balance Sheet revised.xlsx\",\n",
    "                            sheet_name = \"2017 Revenue\")\n",
    "sales_LLY_16_ = pd.read_excel(\"/Users/GuntherUlvanget/Dropbox/NADAC_downloads/ELILILLY/IR_Workbook_Q1_2017_Excluding_Balance_Sheet.xlsx\",\n",
    "                            sheet_name = \"2016 Revenue\" )\n",
    "sales_LLY_15_ = pd.read_excel(\"/Users/GuntherUlvanget/Dropbox/NADAC_downloads/ELILILLY/IR_workbook_Q1_2016.xlsx\",\n",
    "                            sheet_name =\"2015 Revenue\" )\n",
    "sales_LLY_14_13_ = pd.read_excel(\"/Users/GuntherUlvanget/Dropbox/NADAC_downloads/ELILILLY/IR_workbook_Q4_2014.xls\",\n",
    "                              sheet_name = [\"2014 Sales\",\"2013 Sales\"])\n",
    "\n",
    "#separate 2019 and 2018 sales data from the dictionary. \n",
    "#First make itmes into a list of dataframes\n",
    "#then assign each DF in df_list to variable \n",
    "\n",
    "df_list = list (sales_LLY_19_18_.items())\n",
    "df_2_list = list (sales_LLY_14_13_.items())\n",
    "\n",
    "sales_LLY_18_ = (df_list[1][1])\n",
    "sales_LLY_19_ = df_list[0][1]\n",
    "sales_LLY_13_ = df_2_list[1][1]\n",
    "sales_LLY_14_ = df_2_list[0][1]\n",
    "sales_LLY_14_.head(20)\n",
    "#make a list of all dataframes\n",
    "\n",
    "sales_list = [sales_LLY_13_, sales_LLY_14_, sales_LLY_15_, sales_LLY_16_, sales_LLY_17_, sales_LLY_18_, sales_LLY_19_]\n",
    "year = str(sales_LLY_14_.at[0, \"LLY\"])\n",
    "#sales_LLY_13_.head(15)\n",
    "#1000000\n",
    "#1000000"
   ]
  },
  {
   "cell_type": "code",
   "execution_count": 540,
   "metadata": {},
   "outputs": [],
   "source": [
    "#make header list to ease removal and renaming of columns later\n",
    "def clean_up(df):\n",
    "    \n",
    "    #rename columns and then drop all NaN\n",
    "    colnames_list = []\n",
    "    df.drop(df.columns[0], axis = 1, inplace = True)\n",
    "    #remove all rows and columns that are all NaN\n",
    "    \n",
    "    df.dropna(axis = 1,how = \"all\", inplace = True)\n",
    "    df.dropna(axis = 0,how = \"all\", inplace = True)\n",
    "    df.reset_index(drop = True,inplace=True)\n",
    "    header_list = list(df.columns) \n",
    "    \n",
    "    year = str(df.at[0, \"LLY\"])\n",
    "    \n",
    "    \n",
    "    #crete new header list using values from cells in df ie Quarter and Year\n",
    "    #use dictionary to of existing header and new header , rename requires a dict k,v pair\n",
    "    for i in range(df.shape[1]):\n",
    "        colnames_list.append(str(df.at[1,header_list[i]]) + \"_\" + \n",
    "                             str(df.at[0, header_list[i]]))\n",
    "    myDict = { k:v for (k,v) in zip(header_list, colnames_list)}\n",
    "    df.rename(columns = myDict, inplace= True)\n",
    "    \n",
    "    df['year'] = year\n",
    "    \n",
    "    df.rename(index=str, columns={\"nan_nan\":\"drug\"}, inplace = True)\n",
    "    # remove the first column which has useless data\n",
    "    df.drop(labels = ['0','1'],axis = 0, inplace = True )\n",
    "    # the spreadsheets contain rows contain an NA in the drug column\n",
    "    # these rows are drug category aggragate information\n",
    "    df.dropna(subset=['drug'], inplace = True)\n",
    "    df.reset_index(drop = True,inplace=True)\n",
    "    #test if ints are scaled in millions ie 22 = 22 million or 22000000\n",
    "    #convert 22 to 22000000 using if \n",
    "    min_vals = (df.iloc[0:6 + 1, 1:16].min()  >0) & (df.iloc[0:6 + 1, 1:16].min() < 100000)\n",
    "    if min_vals.sum() > 0:\n",
    "        df.iloc[0: , 1:16] = df.iloc[0: , 1:16]*1000000\n",
    "\n",
    "\n",
    "    "
   ]
  },
  {
   "cell_type": "code",
   "execution_count": 541,
   "metadata": {},
   "outputs": [
    {
     "data": {
      "text/plain": [
       "[None, None, None, None, None, None, None]"
      ]
     },
     "execution_count": 541,
     "metadata": {},
     "output_type": "execute_result"
    }
   ],
   "source": [
    "[clean_up(df) for df in sales_list]"
   ]
  },
  {
   "cell_type": "code",
   "execution_count": null,
   "metadata": {},
   "outputs": [],
   "source": [
    "    \n"
   ]
  },
  {
   "cell_type": "code",
   "execution_count": 856,
   "metadata": {},
   "outputs": [],
   "source": [
    "#sales_list[5].dropna(subset=['drug'], inplace = True)\n",
    "#sales_list[5]\n"
   ]
  },
  {
   "cell_type": "code",
   "execution_count": 543,
   "metadata": {},
   "outputs": [],
   "source": [
    "result = pd.concat(sales_list, join = 'inner')"
   ]
  },
  {
   "cell_type": "code",
   "execution_count": null,
   "metadata": {},
   "outputs": [],
   "source": []
  },
  {
   "cell_type": "code",
   "execution_count": 875,
   "metadata": {},
   "outputs": [],
   "source": [
    "#LIST OF insulins/antiinsulin to subset\n",
    "\n",
    "insulins = [\"Humalog\",\"Humalog(1)\",\"Basaglar\", \"Humulin\", \"Glucagon\"]\n",
    "insulins_df=[]\n"
   ]
  },
  {
   "cell_type": "code",
   "execution_count": 876,
   "metadata": {},
   "outputs": [],
   "source": [
    "#create data frames of each\n",
    "for i in range(len(insulins)):\n",
    "    insulins_df.append(result.loc[result['drug'] == insulins[i]])\n",
    "#combine both humalog and humalog(1) footnote symbole from Eli Lilly\n",
    "insulins_df[0] = pd.concat([insulins_df[0], insulins_df[1]])\n",
    "del insulins_df[1]"
   ]
  },
  {
   "cell_type": "code",
   "execution_count": null,
   "metadata": {},
   "outputs": [],
   "source": []
  },
  {
   "cell_type": "code",
   "execution_count": 877,
   "metadata": {},
   "outputs": [],
   "source": [
    "#basaglar was new drug, missing data, added two rows of zeros to account for this \n",
    "#added rows at top\n",
    "before_drug = [0]*14\n",
    "before_drug[0] = \"Basaglar\"\n",
    "before_drug2 = (before_drug).copy()\n",
    "before_drug[13] = \"2013\"\n",
    "before_drug2[13] = \"2014\"\n",
    "colnames =[\"drug\",\"US_Q1\",\"Intl_Q1\",\"Total_Q1\",\"US_Q2\",\"Intl_Q2\",\"Total_Q2\",\"US_Q3\",\"Intl_Q3\",\t\"Total_Q3\",\t\"US_Q4\"\t,\"Intl_Q4\",\t\"Total_Q4\",\t\"year\"]\n",
    "bfdf = (pd.DataFrame([before_drug, before_drug2], columns=colnames))\n",
    "\n",
    "insulins_df[1] = pd.concat([bfdf, insulins_df[1]])\n",
    "#insulins_df2 =pd.concat(insulins_df)\n"
   ]
  },
  {
   "cell_type": "code",
   "execution_count": 878,
   "metadata": {},
   "outputs": [],
   "source": [
    "#insulins_df                               \n",
    "#insulins_df    \n",
    "#Humalog_df = pd.DataFrame(result.loc[result['drug'] == \"Humalog\"] )\n",
    "#Humalog_df.concat(result.loc[result['drug'] == \"Humalog(1)\"])\n",
    "#Humalog_df\n",
    "#Basaglar_df = (result.loc[result['drug'] == \"Basaglar\"])\n",
    "\n",
    "\n",
    "#Humulin_df = (result.loc[result[\"drug\"]== \"Humulin\"])\n",
    "\n",
    "\n",
    "#Glucagon_df = (result.loc[result[\"drug\"] == \"Glucagon\"])\n",
    "#Humalog_df"
   ]
  },
  {
   "cell_type": "code",
   "execution_count": 879,
   "metadata": {},
   "outputs": [],
   "source": [
    "insulins_us_qtr_ls = []\n",
    "for i in range(len(insulins_df)):\n",
    "    insulins_us_qtr_ls.append(insulins_df[i][[\"US_Q1\",\"US_Q2\",\"US_Q3\",\"US_Q4\"]])\n",
    "#ins_us_qtr =insulins_df2[[\"drug\",\"US_Q1\",\"US_Q2\",\"US_Q3\",\"US_Q4\",\"year\"]]\n",
    "#type(ins_us_qtr)\n",
    "#ins_us_qtr.sort_values(by=[\"drug\",\"year\"], inplace = True)\n",
    "#Humalog_df = (result.loc[ins_us_qtr['drug'] == \"Humalog\"] )\n",
    "#Humalog_df"
   ]
  },
  {
   "cell_type": "code",
   "execution_count": 880,
   "metadata": {},
   "outputs": [
    {
     "data": {
      "text/html": [
       "<div>\n",
       "<style scoped>\n",
       "    .dataframe tbody tr th:only-of-type {\n",
       "        vertical-align: middle;\n",
       "    }\n",
       "\n",
       "    .dataframe tbody tr th {\n",
       "        vertical-align: top;\n",
       "    }\n",
       "\n",
       "    .dataframe thead th {\n",
       "        text-align: right;\n",
       "    }\n",
       "</style>\n",
       "<table border=\"1\" class=\"dataframe\">\n",
       "  <thead>\n",
       "    <tr style=\"text-align: right;\">\n",
       "      <th></th>\n",
       "      <th>US_Q1</th>\n",
       "      <th>US_Q2</th>\n",
       "      <th>US_Q3</th>\n",
       "      <th>US_Q4</th>\n",
       "    </tr>\n",
       "  </thead>\n",
       "  <tbody>\n",
       "    <tr>\n",
       "      <th>6</th>\n",
       "      <td>3.782e+08</td>\n",
       "      <td>3.519e+08</td>\n",
       "      <td>3.578e+08</td>\n",
       "      <td>4.335e+08</td>\n",
       "    </tr>\n",
       "    <tr>\n",
       "      <th>6</th>\n",
       "      <td>3.754e+08</td>\n",
       "      <td>4.131e+08</td>\n",
       "      <td>415000000</td>\n",
       "      <td>4.241e+08</td>\n",
       "    </tr>\n",
       "    <tr>\n",
       "      <th>6</th>\n",
       "      <td>4.206e+08</td>\n",
       "      <td>3.997e+08</td>\n",
       "      <td>4.409e+08</td>\n",
       "      <td>511000000</td>\n",
       "    </tr>\n",
       "    <tr>\n",
       "      <th>10</th>\n",
       "      <td>361600000</td>\n",
       "      <td>420000000</td>\n",
       "      <td>378800000</td>\n",
       "      <td>524800000</td>\n",
       "    </tr>\n",
       "    <tr>\n",
       "      <th>10</th>\n",
       "      <td>449100000</td>\n",
       "      <td>390400000</td>\n",
       "      <td>414900000</td>\n",
       "      <td>463400000</td>\n",
       "    </tr>\n",
       "    <tr>\n",
       "      <th>3</th>\n",
       "      <td>5.041e+08</td>\n",
       "      <td>4.645e+08</td>\n",
       "      <td>3.656e+08</td>\n",
       "      <td>4.536e+08</td>\n",
       "    </tr>\n",
       "    <tr>\n",
       "      <th>4</th>\n",
       "      <td>4.486e+08</td>\n",
       "      <td>3.961e+08</td>\n",
       "      <td>3.562e+08</td>\n",
       "      <td>NaN</td>\n",
       "    </tr>\n",
       "  </tbody>\n",
       "</table>\n",
       "</div>"
      ],
      "text/plain": [
       "        US_Q1      US_Q2      US_Q3      US_Q4\n",
       "6   3.782e+08  3.519e+08  3.578e+08  4.335e+08\n",
       "6   3.754e+08  4.131e+08  415000000  4.241e+08\n",
       "6   4.206e+08  3.997e+08  4.409e+08  511000000\n",
       "10  361600000  420000000  378800000  524800000\n",
       "10  449100000  390400000  414900000  463400000\n",
       "3   5.041e+08  4.645e+08  3.656e+08  4.536e+08\n",
       "4   4.486e+08  3.961e+08  3.562e+08        NaN"
      ]
     },
     "execution_count": 880,
     "metadata": {},
     "output_type": "execute_result"
    }
   ],
   "source": [
    "insulins_us_qtr_ls[0]"
   ]
  },
  {
   "cell_type": "code",
   "execution_count": 881,
   "metadata": {},
   "outputs": [],
   "source": [
    "#ins_us_qtr =ins_us_qtr[[\"US_Q1\",\"US_Q2\",\"US_Q3\",\"US_Q4\"]]"
   ]
  },
  {
   "cell_type": "code",
   "execution_count": null,
   "metadata": {},
   "outputs": [],
   "source": [
    "ins_arr_list = []\n",
    "for i in range(len(insulins_us_qtr_ls)):\n",
    "    ins_arr_list.append(np.array(insulins_us_qtr_ls[i]).reshape(28,1)) "
   ]
  },
  {
   "cell_type": "code",
   "execution_count": 902,
   "metadata": {},
   "outputs": [],
   "source": [
    "insulins_array = np.hstack((ins_arr_list[0],ins_arr_list[1],ins_arr_list[2],ins_arr_list[3]))"
   ]
  },
  {
   "cell_type": "code",
   "execution_count": 889,
   "metadata": {},
   "outputs": [],
   "source": [
    "\n",
    "#ins_US_QTR_df = ins_US_QTR_df.flatten()\n",
    "#ins_US_QTR_df.shape"
   ]
  },
  {
   "cell_type": "code",
   "execution_count": 888,
   "metadata": {},
   "outputs": [],
   "source": [
    "#ins_US_QTR_df = ins_US_QTR_df.reshape(28,4)\n",
    "#ins_US_QTR_df"
   ]
  },
  {
   "cell_type": "code",
   "execution_count": 890,
   "metadata": {},
   "outputs": [],
   "source": [
    "#Hum_US_QTR_df = Hum_US_QTR_df.reshape(24,1)\n",
    "#Hum_US_QTR_df.shape"
   ]
  },
  {
   "cell_type": "code",
   "execution_count": 898,
   "metadata": {},
   "outputs": [
    {
     "data": {
      "text/plain": [
       "(28, 1)"
      ]
     },
     "execution_count": 898,
     "metadata": {},
     "output_type": "execute_result"
    }
   ],
   "source": [
    "dat = np.array(pd.date_range(start = '1/1/2013', end = '12/31/2019', freq = \"Q\"))\n",
    "\n",
    "(ins_arr_list[0].shape)"
   ]
  },
  {
   "cell_type": "code",
   "execution_count": 903,
   "metadata": {},
   "outputs": [
    {
     "data": {
      "text/html": [
       "<div>\n",
       "<style scoped>\n",
       "    .dataframe tbody tr th:only-of-type {\n",
       "        vertical-align: middle;\n",
       "    }\n",
       "\n",
       "    .dataframe tbody tr th {\n",
       "        vertical-align: top;\n",
       "    }\n",
       "\n",
       "    .dataframe thead th {\n",
       "        text-align: right;\n",
       "    }\n",
       "</style>\n",
       "<table border=\"1\" class=\"dataframe\">\n",
       "  <thead>\n",
       "    <tr style=\"text-align: right;\">\n",
       "      <th></th>\n",
       "      <th>Humalog</th>\n",
       "      <th>Basaglar</th>\n",
       "      <th>Humulin</th>\n",
       "      <th>Glucagon</th>\n",
       "    </tr>\n",
       "  </thead>\n",
       "  <tbody>\n",
       "    <tr>\n",
       "      <th>2013-03-31</th>\n",
       "      <td>3.782e+08</td>\n",
       "      <td>0</td>\n",
       "      <td>1.634e+08</td>\n",
       "      <td>1.68e+07</td>\n",
       "    </tr>\n",
       "    <tr>\n",
       "      <th>2013-06-30</th>\n",
       "      <td>3.519e+08</td>\n",
       "      <td>0</td>\n",
       "      <td>1.581e+08</td>\n",
       "      <td>2.22e+07</td>\n",
       "    </tr>\n",
       "    <tr>\n",
       "      <th>2013-09-30</th>\n",
       "      <td>3.578e+08</td>\n",
       "      <td>0</td>\n",
       "      <td>1.614e+08</td>\n",
       "      <td>2.84e+07</td>\n",
       "    </tr>\n",
       "    <tr>\n",
       "      <th>2013-12-31</th>\n",
       "      <td>4.335e+08</td>\n",
       "      <td>0</td>\n",
       "      <td>1.942e+08</td>\n",
       "      <td>22000000</td>\n",
       "    </tr>\n",
       "    <tr>\n",
       "      <th>2014-03-31</th>\n",
       "      <td>3.754e+08</td>\n",
       "      <td>0</td>\n",
       "      <td>1.548e+08</td>\n",
       "      <td>20000000</td>\n",
       "    </tr>\n",
       "    <tr>\n",
       "      <th>2014-06-30</th>\n",
       "      <td>4.131e+08</td>\n",
       "      <td>0</td>\n",
       "      <td>1.817e+08</td>\n",
       "      <td>2.45e+07</td>\n",
       "    </tr>\n",
       "    <tr>\n",
       "      <th>2014-09-30</th>\n",
       "      <td>415000000</td>\n",
       "      <td>0</td>\n",
       "      <td>1.658e+08</td>\n",
       "      <td>3.02e+07</td>\n",
       "    </tr>\n",
       "    <tr>\n",
       "      <th>2014-12-31</th>\n",
       "      <td>4.241e+08</td>\n",
       "      <td>0</td>\n",
       "      <td>2.109e+08</td>\n",
       "      <td>2.35e+07</td>\n",
       "    </tr>\n",
       "    <tr>\n",
       "      <th>2015-03-31</th>\n",
       "      <td>4.206e+08</td>\n",
       "      <td>0</td>\n",
       "      <td>1.795e+08</td>\n",
       "      <td>2.48e+07</td>\n",
       "    </tr>\n",
       "    <tr>\n",
       "      <th>2015-06-30</th>\n",
       "      <td>3.997e+08</td>\n",
       "      <td>0</td>\n",
       "      <td>1.881e+08</td>\n",
       "      <td>2.48e+07</td>\n",
       "    </tr>\n",
       "    <tr>\n",
       "      <th>2015-09-30</th>\n",
       "      <td>4.409e+08</td>\n",
       "      <td>0</td>\n",
       "      <td>1.855e+08</td>\n",
       "      <td>4.18e+07</td>\n",
       "    </tr>\n",
       "    <tr>\n",
       "      <th>2015-12-31</th>\n",
       "      <td>511000000</td>\n",
       "      <td>0</td>\n",
       "      <td>2.112e+08</td>\n",
       "      <td>2.31e+07</td>\n",
       "    </tr>\n",
       "    <tr>\n",
       "      <th>2016-03-31</th>\n",
       "      <td>361600000</td>\n",
       "      <td>0</td>\n",
       "      <td>240100000</td>\n",
       "      <td>29100000</td>\n",
       "    </tr>\n",
       "    <tr>\n",
       "      <th>2016-06-30</th>\n",
       "      <td>420000000</td>\n",
       "      <td>0</td>\n",
       "      <td>204300000</td>\n",
       "      <td>29200000</td>\n",
       "    </tr>\n",
       "    <tr>\n",
       "      <th>2016-09-30</th>\n",
       "      <td>378800000</td>\n",
       "      <td>0</td>\n",
       "      <td>195600000</td>\n",
       "      <td>44100000</td>\n",
       "    </tr>\n",
       "    <tr>\n",
       "      <th>2016-12-31</th>\n",
       "      <td>524800000</td>\n",
       "      <td>15800000</td>\n",
       "      <td>221800000</td>\n",
       "      <td>25200000</td>\n",
       "    </tr>\n",
       "    <tr>\n",
       "      <th>2017-03-31</th>\n",
       "      <td>449100000</td>\n",
       "      <td>22000000</td>\n",
       "      <td>205400000</td>\n",
       "      <td>31400000</td>\n",
       "    </tr>\n",
       "    <tr>\n",
       "      <th>2017-06-30</th>\n",
       "      <td>390400000</td>\n",
       "      <td>59500000</td>\n",
       "      <td>226500000</td>\n",
       "      <td>30800000</td>\n",
       "    </tr>\n",
       "    <tr>\n",
       "      <th>2017-09-30</th>\n",
       "      <td>414900000</td>\n",
       "      <td>115200000</td>\n",
       "      <td>203000000</td>\n",
       "      <td>44700000</td>\n",
       "    </tr>\n",
       "    <tr>\n",
       "      <th>2017-12-31</th>\n",
       "      <td>463400000</td>\n",
       "      <td>114400000</td>\n",
       "      <td>249700000</td>\n",
       "      <td>28600000</td>\n",
       "    </tr>\n",
       "    <tr>\n",
       "      <th>2018-03-31</th>\n",
       "      <td>5.041e+08</td>\n",
       "      <td>1.267e+08</td>\n",
       "      <td>2.216e+08</td>\n",
       "      <td>3.38e+07</td>\n",
       "    </tr>\n",
       "    <tr>\n",
       "      <th>2018-06-30</th>\n",
       "      <td>4.645e+08</td>\n",
       "      <td>1.565e+08</td>\n",
       "      <td>2.388e+08</td>\n",
       "      <td>3.08e+07</td>\n",
       "    </tr>\n",
       "    <tr>\n",
       "      <th>2018-09-30</th>\n",
       "      <td>3.656e+08</td>\n",
       "      <td>1.573e+08</td>\n",
       "      <td>2.169e+08</td>\n",
       "      <td>4.58e+07</td>\n",
       "    </tr>\n",
       "    <tr>\n",
       "      <th>2018-12-31</th>\n",
       "      <td>4.536e+08</td>\n",
       "      <td>1.823e+08</td>\n",
       "      <td>2.329e+08</td>\n",
       "      <td>3.29e+07</td>\n",
       "    </tr>\n",
       "    <tr>\n",
       "      <th>2019-03-31</th>\n",
       "      <td>4.486e+08</td>\n",
       "      <td>1.982e+08</td>\n",
       "      <td>2.013e+08</td>\n",
       "      <td>3.09e+07</td>\n",
       "    </tr>\n",
       "    <tr>\n",
       "      <th>2019-06-30</th>\n",
       "      <td>3.961e+08</td>\n",
       "      <td>2.322e+08</td>\n",
       "      <td>2.201e+08</td>\n",
       "      <td>3.19e+07</td>\n",
       "    </tr>\n",
       "    <tr>\n",
       "      <th>2019-09-30</th>\n",
       "      <td>3.562e+08</td>\n",
       "      <td>2.024e+08</td>\n",
       "      <td>2.182e+08</td>\n",
       "      <td>4.19e+07</td>\n",
       "    </tr>\n",
       "    <tr>\n",
       "      <th>2019-12-31</th>\n",
       "      <td>NaN</td>\n",
       "      <td>NaN</td>\n",
       "      <td>NaN</td>\n",
       "      <td>NaN</td>\n",
       "    </tr>\n",
       "  </tbody>\n",
       "</table>\n",
       "</div>"
      ],
      "text/plain": [
       "              Humalog   Basaglar    Humulin  Glucagon\n",
       "2013-03-31  3.782e+08          0  1.634e+08  1.68e+07\n",
       "2013-06-30  3.519e+08          0  1.581e+08  2.22e+07\n",
       "2013-09-30  3.578e+08          0  1.614e+08  2.84e+07\n",
       "2013-12-31  4.335e+08          0  1.942e+08  22000000\n",
       "2014-03-31  3.754e+08          0  1.548e+08  20000000\n",
       "2014-06-30  4.131e+08          0  1.817e+08  2.45e+07\n",
       "2014-09-30  415000000          0  1.658e+08  3.02e+07\n",
       "2014-12-31  4.241e+08          0  2.109e+08  2.35e+07\n",
       "2015-03-31  4.206e+08          0  1.795e+08  2.48e+07\n",
       "2015-06-30  3.997e+08          0  1.881e+08  2.48e+07\n",
       "2015-09-30  4.409e+08          0  1.855e+08  4.18e+07\n",
       "2015-12-31  511000000          0  2.112e+08  2.31e+07\n",
       "2016-03-31  361600000          0  240100000  29100000\n",
       "2016-06-30  420000000          0  204300000  29200000\n",
       "2016-09-30  378800000          0  195600000  44100000\n",
       "2016-12-31  524800000   15800000  221800000  25200000\n",
       "2017-03-31  449100000   22000000  205400000  31400000\n",
       "2017-06-30  390400000   59500000  226500000  30800000\n",
       "2017-09-30  414900000  115200000  203000000  44700000\n",
       "2017-12-31  463400000  114400000  249700000  28600000\n",
       "2018-03-31  5.041e+08  1.267e+08  2.216e+08  3.38e+07\n",
       "2018-06-30  4.645e+08  1.565e+08  2.388e+08  3.08e+07\n",
       "2018-09-30  3.656e+08  1.573e+08  2.169e+08  4.58e+07\n",
       "2018-12-31  4.536e+08  1.823e+08  2.329e+08  3.29e+07\n",
       "2019-03-31  4.486e+08  1.982e+08  2.013e+08  3.09e+07\n",
       "2019-06-30  3.961e+08  2.322e+08  2.201e+08  3.19e+07\n",
       "2019-09-30  3.562e+08  2.024e+08  2.182e+08  4.19e+07\n",
       "2019-12-31        NaN        NaN        NaN       NaN"
      ]
     },
     "execution_count": 903,
     "metadata": {},
     "output_type": "execute_result"
    }
   ],
   "source": [
    "df = pd.DataFrame(insulins_array ,index = dat ,\n",
    "                  \n",
    "                  \n",
    "                  \n",
    "                  columns = [\"Humalog\",\"Basaglar\", \"Humulin\",\"Glucagon\"] )\n",
    "df"
   ]
  },
  {
   "cell_type": "code",
   "execution_count": 906,
   "metadata": {},
   "outputs": [
    {
     "data": {
      "text/plain": [
       "<matplotlib.axes._subplots.AxesSubplot at 0x1a284840b8>"
      ]
     },
     "execution_count": 906,
     "metadata": {},
     "output_type": "execute_result"
    },
    {
     "data": {
      "image/png": "[encoded data removed]",
      "text/plain": [
       "<Figure size 432x288 with 1 Axes>"
      ]
     },
     "metadata": {
      "needs_background": "light"
     },
     "output_type": "display_data"
    }
   ],
   "source": [
    "df.plot(y=[\"Humalog\",\"Basaglar\", \"Humulin\",\"Glucagon\"], use_index=True, title = \"Eli Lilly Insulin income 2013-2018\")\n",
    "\n",
    "#ax = sns.lineplot(x= df.index, y=\"Sales\", data = df)"
   ]
  },
  {
   "cell_type": "code",
   "execution_count": null,
   "metadata": {},
   "outputs": [],
   "source": [
    "sns.lineplot(data=df.column1, color=\"g\")\n",
    "ax2 = plt.twinx()\n",
    "sns.lineplot(data=df.column2, color=\"b\", ax=ax2)"
   ]
  },
  {
   "cell_type": "code",
   "execution_count": 907,
   "metadata": {},
   "outputs": [
    {
     "name": "stdout",
     "output_type": "stream",
     "text": [
      "Reset css and font defaults in:\r\n",
      "/Users/GuntherUlvanget/.jupyter/custom &\r\n",
      "/Users/GuntherUlvanget/Library/Jupyter/nbextensions\r\n"
     ]
    }
   ],
   "source": [
    "!jt -r"
   ]
  },
  {
   "cell_type": "code",
   "execution_count": 896,
   "metadata": {},
   "outputs": [
    {
     "data": {
      "text/plain": [
       "array([0.14469935, 0.09164116, 0.630103  , 0.1845031 , 0.8756096 ,\n",
       "       0.65339475, 0.51416278, 0.28934247, 0.52189912, 0.20216255])"
      ]
     },
     "execution_count": 896,
     "metadata": {},
     "output_type": "execute_result"
    }
   ],
   "source": []
  },
  {
   "cell_type": "code",
   "execution_count": null,
   "metadata": {},
   "outputs": [],
   "source": []
  },
  {
   "cell_type": "code",
   "execution_count": null,
   "metadata": {},
   "outputs": [],
   "source": []
  },
  {
   "cell_type": "code",
   "execution_count": 483,
   "metadata": {},
   "outputs": [],
   "source": [
    "def clean_up(df):\n",
    "    \n",
    "    #rename columns and then drop all NaN\n",
    "    colnames_list = []\n",
    "    df.drop(df.columns[0], axis = 1, inplace = True)\n",
    "    #remove all rows and columns that are all NaN\n",
    "    \n",
    "    df.dropna(axis = 1,how = \"all\", inplace = True)\n",
    "    df.dropna(axis = 0,how = \"all\", inplace = True)\n",
    "    df.reset_index(drop = True,inplace=True)\n",
    "    header_list = list(df.columns) \n",
    "    df.head()\n",
    "    year = str(df.at[0, \"LLY\"])\n",
    "    \n",
    "    \n",
    "    \n",
    "    for i in range(df.shape[1]):\n",
    "        colnames_list.append(str(df.at[1,header_list[i]]) + \"_\" + \n",
    "                             str(df.at[0, header_list[i]]))\n",
    "    myDict = { k:v for (k,v) in zip(header_list, colnames_list)}\n",
    "    df.rename(columns = myDict, inplace= True)\n",
    "    # remove the first column which has useless data\n",
    "    df['year'] = year\n",
    "    \n",
    "    df.rename(index=str, columns={\"nan_nan\":\"drug\"}, inplace = True)\n",
    "    df.drop(labels = ['0','1'],axis = 0, inplace = True )\n",
    "    df.reset_index(drop = True,inplace=True)\n",
    "    min_vals = (df.iloc[:6 + 1, 1:16].min()  >0) & (df.illoc[:6 + 1, 1:16].min() < 100000)\n",
    "    if min_vals.sum() > 0:\n",
    "        df.iloc[0: , 1:16] = df.iloc[0: , 1:16]*1000000\n"
   ]
  },
  {
   "cell_type": "code",
   "execution_count": null,
   "metadata": {},
   "outputs": [],
   "source": []
  },
  {
   "cell_type": "code",
   "execution_count": 510,
   "metadata": {},
   "outputs": [
    {
     "data": {
      "text/plain": [
       "0"
      ]
     },
     "execution_count": 510,
     "metadata": {},
     "output_type": "execute_result"
    }
   ],
   "source": [
    "min_vals = (sales_LLY_13_.iloc[:6 + 1, 1:16].min()  >0) & (sales_LLY_13_.iloc[:6 + 1, 1:16].min() < 100000)\n",
    "min_vals.sum()\n",
    "\n",
    "\n"
   ]
  },
  {
   "cell_type": "code",
   "execution_count": 445,
   "metadata": {},
   "outputs": [
    {
     "data": {
      "text/plain": [
       "15"
      ]
     },
     "execution_count": 445,
     "metadata": {},
     "output_type": "execute_result"
    }
   ],
   "source": [
    "min_vals = (sales_LLY_14_.iloc[:6 + 1, 1:16].min()> 0) & (sales_LLY_14_.iloc[:6 + 1, 1:16].min() <100000)\n",
    "min_vals.sum()"
   ]
  },
  {
   "cell_type": "code",
   "execution_count": 443,
   "metadata": {},
   "outputs": [
    {
     "data": {
      "text/plain": [
       "15"
      ]
     },
     "execution_count": 443,
     "metadata": {},
     "output_type": "execute_result"
    }
   ],
   "source": [
    "min_vals = (sales_LLY_15_.iloc[:6 + 1, 1:16].min() >0) & (sales_LLY_15_.iloc[:6 + 1, 1:16].min() <100000)\n",
    "min_vals.sum()"
   ]
  },
  {
   "cell_type": "code",
   "execution_count": 442,
   "metadata": {},
   "outputs": [
    {
     "data": {
      "text/plain": [
       "0"
      ]
     },
     "execution_count": 442,
     "metadata": {},
     "output_type": "execute_result"
    }
   ],
   "source": [
    "#df.drop(labels = ['0','1'],axis = 0, inplace = True )\n",
    "min_vals = (sales_LLY_16_.iloc[:6 + 1, 1:16].min() >0) & (sales_LLY_16_.iloc[:6 + 1, 1:16].min()  < 100000)\n",
    "min_vals.sum()"
   ]
  },
  {
   "cell_type": "code",
   "execution_count": 439,
   "metadata": {},
   "outputs": [
    {
     "data": {
      "text/plain": [
       "0"
      ]
     },
     "execution_count": 439,
     "metadata": {},
     "output_type": "execute_result"
    }
   ],
   "source": [
    "min_vals = (sales_LLY_17_.iloc[:6 + 1, 1:16].min() >0)& (sales_LLY_17_.iloc[:6 + 1, 1:16].min() < 100000)\n",
    "#min_vals = sales_LLY_17_.iloc[:6 + 1, 1:16].min()\n",
    "min_vals.sum()"
   ]
  },
  {
   "cell_type": "code",
   "execution_count": 438,
   "metadata": {},
   "outputs": [
    {
     "data": {
      "text/plain": [
       "15"
      ]
     },
     "execution_count": 438,
     "metadata": {},
     "output_type": "execute_result"
    }
   ],
   "source": [
    "min_vals = ((sales_LLY_18_.iloc[:6 + 1, 1:16].min() >0) & \n",
    "(sales_LLY_18_.iloc[:6 + 1, 1:16].min() < 100001))\n",
    "min_vals.sum()"
   ]
  },
  {
   "cell_type": "code",
   "execution_count": 440,
   "metadata": {},
   "outputs": [
    {
     "data": {
      "text/plain": [
       "4"
      ]
     },
     "execution_count": 440,
     "metadata": {},
     "output_type": "execute_result"
    }
   ],
   "source": [
    "min_vals = (sales_LLY_19_.iloc[:6 + 1, 1:16].min() >0) & (sales_LLY_19_.iloc[:6 + 1, 1:16].min() <100001)\n",
    "min_vals.sum()"
   ]
  },
  {
   "cell_type": "code",
   "execution_count": null,
   "metadata": {},
   "outputs": [],
   "source": [
    "\n",
    "\n",
    "\n",
    "\n",
    "\n"
   ]
  },
  {
   "cell_type": "code",
   "execution_count": null,
   "metadata": {},
   "outputs": [],
   "source": []
  }
 ],
 "metadata": {
  "kernelspec": {
   "display_name": "Python 3",
   "language": "python",
   "name": "python3"
  },
  "language_info": {
   "codemirror_mode": {
    "name": "ipython",
    "version": 3
   },
   "file_extension": ".py",
   "mimetype": "text/x-python",
   "name": "python",
   "nbconvert_exporter": "python",
   "pygments_lexer": "ipython3",
   "version": "3.7.3"
  }
 },
 "nbformat": 4,
 "nbformat_minor": 2
}
